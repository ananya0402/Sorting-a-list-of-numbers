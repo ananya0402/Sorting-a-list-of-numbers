{
 "cells": [
  {
   "cell_type": "code",
   "execution_count": 1,
   "metadata": {},
   "outputs": [],
   "source": [
    "#The following function shows how a list of numbers can be sorted in python. \n",
    "#Each section of the code is explained below in order to make it easier to understand.\n",
    "#In this, the first element is considered as minimum and the rest of the elements are compared with the minimum. \n",
    "#If the next element is smaller than the current minimum, it becomes the new minimum and these elements are then added in the new list.\n",
    "\n",
    "def sort_numbers(my_list):\n",
    "    new_list = [] #initialise a list to store the sorted numbers\n",
    "\n",
    "    while my_list: #iterate through the list that is to be sorted\n",
    "        min = my_list[0]  #first element of the list is considered as minimum initially\n",
    "        for x in my_list: \n",
    "            if x < min: #if the number is smaller than the minimum, it becomes the minimum\n",
    "                min = x\n",
    "        new_list.append(min) #if the number is smaller than minimum it is appended to the new_list\n",
    "        my_list.remove(min)  #the minimum is removed from the original list  \n",
    "\n",
    "    return(new_list) #the sorted list is returned"
   ]
  },
  {
   "cell_type": "code",
   "execution_count": 2,
   "metadata": {},
   "outputs": [
    {
     "data": {
      "text/plain": [
       "[-61, -21, -16, 1, 18, 26, 28, 79]"
      ]
     },
     "execution_count": 2,
     "metadata": {},
     "output_type": "execute_result"
    }
   ],
   "source": [
    "#Code to run the function\n",
    "\n",
    "#CASE-1\n",
    "my_list = [-16, -21, 18, 1, 28, -61, 26, 79]\n",
    "sort_numbers(my_list)"
   ]
  },
  {
   "cell_type": "code",
   "execution_count": 3,
   "metadata": {},
   "outputs": [
    {
     "data": {
      "text/plain": [
       "[1, 2, 8, 10, 11, 15, 22, 87]"
      ]
     },
     "execution_count": 3,
     "metadata": {},
     "output_type": "execute_result"
    }
   ],
   "source": [
    "#CASE-2\n",
    "my_list = [10, 15, 2, 8, 22, 87, 11, 1]\n",
    "sort_numbers(my_list)"
   ]
  }
 ],
 "metadata": {
  "kernelspec": {
   "display_name": "Python 3",
   "language": "python",
   "name": "python3"
  },
  "language_info": {
   "codemirror_mode": {
    "name": "ipython",
    "version": 3
   },
   "file_extension": ".py",
   "mimetype": "text/x-python",
   "name": "python",
   "nbconvert_exporter": "python",
   "pygments_lexer": "ipython3",
   "version": "3.7.3"
  }
 },
 "nbformat": 4,
 "nbformat_minor": 2
}
